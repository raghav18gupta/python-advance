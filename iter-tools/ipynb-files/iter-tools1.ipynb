{
 "cells": [
  {
   "cell_type": "code",
   "execution_count": 34,
   "metadata": {},
   "outputs": [],
   "source": [
    "import itertools as it\n",
    "# https://www.geeksforgeeks.org/iterator-functions-in-python-set-1/\n",
    "# https://www.youtube.com/watch?v=xK7E2YmjyAc\n"
   ]
  },
  {
   "cell_type": "code",
   "execution_count": 35,
   "metadata": {},
   "outputs": [],
   "source": [
    "def simple_func(a, b):\t# Two parameters needed for it.accumulator\n",
    "    return (a+b)/(a-b)\n"
   ]
  },
  {
   "cell_type": "code",
   "execution_count": 36,
   "metadata": {},
   "outputs": [],
   "source": [
    "a = [0, 1, 2, 3, 4, 5, 6, 7, 8, 9]\n",
    "b = ['zero', 'one', 'two', 'three', 'four', 'five', 'six', 'seven', 'eight', 'nine']\n",
    "c = ['a', 'b', 'c', 'd', 'e', 'f', 'g', 'h', 'i', 'j']\n"
   ]
  },
  {
   "cell_type": "code",
   "execution_count": 37,
   "metadata": {},
   "outputs": [
    {
     "name": "stdout",
     "output_type": "stream",
     "text": [
      "[0, 1, 2, 3, 4, 5, 6, 7, 8, 9, 'zero', 'one', 'two', 'three', 'four', 'five', 'six', 'seven', 'eight', 'nine', 'a', 'b', 'c', 'd', 'e', 'f', 'g', 'h', 'i', 'j']\n",
      "[5, 6, 7, 8, 9, 'f', 'g', 'h', 'i', 'j']\n"
     ]
    }
   ],
   "source": [
    "# chain()\n",
    "# groups together multiple lists into one single iterable\n",
    "\n",
    "x = []\n",
    "for i in it.chain(a, b, c):\n",
    "    x.append(i)\n",
    "    \n",
    "print(x)\t# [0, 1, 2, 3, 4, 5, 6, 7, 8, 9, 'zero', 'one', 'two', 'three', 'four', 'five', 'six', 'seven', 'eight', 'nine', 'a', 'b', 'c', 'd', 'e', 'f', 'g', 'h', 'i', 'j']\n",
    "print(list(it.chain(a[5:], c[5:])))\t# [5, 6, 7, 8, 9, 'f', 'g', 'h', 'i', 'j']"
   ]
  },
  {
   "cell_type": "code",
   "execution_count": 38,
   "metadata": {},
   "outputs": [
    {
     "name": "stdout",
     "output_type": "stream",
     "text": [
      "[0, 1, 2, 'a', 'b', 'c']\n"
     ]
    }
   ],
   "source": [
    "# chain.from_iterable()\n",
    "\n",
    "print(list(it.chain.from_iterable( [a[:3], c[:3]] )))\t# Similar as chain() but the argument here is a list of lists or any other iterable container.\n"
   ]
  },
  {
   "cell_type": "code",
   "execution_count": 39,
   "metadata": {},
   "outputs": [
    {
     "name": "stdout",
     "output_type": "stream",
     "text": [
      "[0, -1.0, -0.3333333333333333, -0.7999999999999999, -0.6666666666666667, -0.7647058823529411, -0.7739130434782608, -0.8008948545861296, -0.8179969496695476, -0.8333678541839271]\n",
      "[0, 1, 3, 6, 10, 15, 21, 28, 36, 45]\n"
     ]
    }
   ],
   "source": [
    "# accumulate(iter, func=sum)\n",
    "\n",
    "print(list(it.accumulate(a, simple_func)))\n",
    "print(list(it.accumulate(a)))\t# [0, 1, 3, 6, 10, 15, 21, 28, 36, 45]\n"
   ]
  },
  {
   "cell_type": "code",
   "execution_count": 40,
   "metadata": {},
   "outputs": [
    {
     "name": "stdout",
     "output_type": "stream",
     "text": [
      "['a', 'f', 'i']\n"
     ]
    }
   ],
   "source": [
    "# compress(iter, selector)\n",
    "# selectively picks the values to print from the passed container according to the boolean list\n",
    "container = 'abcdefghijklm'\n",
    "selector = [1,0,0,0,0,1,0,0,1,0,0,0,0]\n",
    "print(list(it.compress(container, selector)))"
   ]
  },
  {
   "cell_type": "code",
   "execution_count": 41,
   "metadata": {},
   "outputs": [
    {
     "name": "stdout",
     "output_type": "stream",
     "text": [
      "[5, 7, 8, 2]\n"
     ]
    }
   ],
   "source": [
    "# dropwhile(func, seq)\n",
    "# starts printing the characters only after the func. in argument returns false\n",
    "\n",
    "print (list(it.dropwhile(lambda x : x%2==0, [2, 4, 5, 7, 8, 2]))) "
   ]
  },
  {
   "cell_type": "code",
   "execution_count": 42,
   "metadata": {},
   "outputs": [
    {
     "name": "stdout",
     "output_type": "stream",
     "text": [
      "[5, 7]\n"
     ]
    }
   ],
   "source": [
    "# filterfalse(func, seq) \n",
    "# prints only values that return false for the passed function.\n",
    "\n",
    "print (list(it.filterfalse(lambda x : x%2==0, [2, 4, 5, 7, 8, 2]))) "
   ]
  },
  {
   "cell_type": "code",
   "execution_count": null,
   "metadata": {},
   "outputs": [],
   "source": []
  }
 ],
 "metadata": {
  "kernelspec": {
   "display_name": "Python 3",
   "language": "python",
   "name": "python3"
  },
  "language_info": {
   "codemirror_mode": {
    "name": "ipython",
    "version": 3
   },
   "file_extension": ".py",
   "mimetype": "text/x-python",
   "name": "python",
   "nbconvert_exporter": "python",
   "pygments_lexer": "ipython3",
   "version": "3.6.5"
  }
 },
 "nbformat": 4,
 "nbformat_minor": 2
}
