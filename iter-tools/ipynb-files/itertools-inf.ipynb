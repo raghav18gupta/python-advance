{
 "cells": [
  {
   "cell_type": "code",
   "execution_count": 1,
   "metadata": {},
   "outputs": [],
   "source": [
    "import itertools as it\n"
   ]
  },
  {
   "cell_type": "code",
   "execution_count": 2,
   "metadata": {},
   "outputs": [],
   "source": [
    "# count(start, step)\n",
    "# This iterator starts printing from the “start” number and prints infinitely. If steps are mentioned, the numbers are skipped else step is 1 by default.\n",
    "\n",
    "a = it.count(5,2)  # prints -- 5,7,9,11...infinitely"
   ]
  },
  {
   "cell_type": "code",
   "execution_count": 3,
   "metadata": {},
   "outputs": [],
   "source": [
    "# cycle(iterable)\n",
    "# This iterator prints all values in order from the passed container. It restarts printing from beginning again when all elements are printed in a cyclic manner.\n",
    "\n",
    "b = it.cycle([1,2,3,4])  # prints -- 1,2,3,4,1,2,3,4,1...infinitely"
   ]
  },
  {
   "cell_type": "code",
   "execution_count": 4,
   "metadata": {},
   "outputs": [],
   "source": [
    "# repeat(val, num)\n",
    "# This iterator repeatedly prints the passed value infinite number of times. If num. is mentioned, them till that number.\n",
    "\n",
    "c = it.repeat(6,4)  # prints [6, 6, 6, 6]\n",
    "d = it.repeat(2)"
   ]
  },
  {
   "cell_type": "code",
   "execution_count": 5,
   "metadata": {},
   "outputs": [
    {
     "name": "stdout",
     "output_type": "stream",
     "text": [
      "[5, 7, 9, 11, 13, 15, 17, 19, 21, 23]\n",
      "\n",
      "[1, 2, 3, 4, 1, 2, 3, 4, 1, 2]\n",
      "\n",
      "[6, 6, 6, 6]\n",
      "\n",
      "[2, 2, 2, 2, 2, 2, 2, 2, 2, 2]\n",
      "\n"
     ]
    }
   ],
   "source": [
    "###################################################\n",
    "# Example #\n",
    "###################################################\n",
    "print (list(it.islice(a, 0, 10, 1)), end = '\\n\\n')\n",
    "print (list(it.islice(b, 0, 10, 1)), end = '\\n\\n')\n",
    "print (list(it.islice(c, 0, 10, 1)), end = '\\n\\n')\n",
    "print (list(it.islice(d, 0, 10, 1)), end = '\\n\\n')"
   ]
  }
 ],
 "metadata": {
  "kernelspec": {
   "display_name": "Python 3",
   "language": "python",
   "name": "python3"
  },
  "language_info": {
   "codemirror_mode": {
    "name": "ipython",
    "version": 3
   },
   "file_extension": ".py",
   "mimetype": "text/x-python",
   "name": "python",
   "nbconvert_exporter": "python",
   "pygments_lexer": "ipython3",
   "version": "3.6.5"
  }
 },
 "nbformat": 4,
 "nbformat_minor": 2
}
