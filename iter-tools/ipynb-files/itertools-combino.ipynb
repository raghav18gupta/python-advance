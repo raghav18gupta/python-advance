{
 "cells": [
  {
   "cell_type": "code",
   "execution_count": 1,
   "metadata": {},
   "outputs": [],
   "source": [
    "# Combinatoric Iterators\n",
    "\n",
    "import itertools as it\n"
   ]
  },
  {
   "cell_type": "code",
   "execution_count": 2,
   "metadata": {},
   "outputs": [
    {
     "name": "stdout",
     "output_type": "stream",
     "text": [
      "[('A', '1'), ('A', '2'), ('B', '1'), ('B', '2')]\n"
     ]
    }
   ],
   "source": [
    "# product(iter1, iter2)\n",
    "# cartesian product of the two iterable containers \n",
    "\n",
    "print (list(it.product('AB','12'))) "
   ]
  },
  {
   "cell_type": "code",
   "execution_count": 3,
   "metadata": {},
   "outputs": [
    {
     "name": "stdout",
     "output_type": "stream",
     "text": [
      "[('a',), ('b',), ('c',)]\n",
      "\n",
      "[('a', 'b'), ('a', 'c'), ('b', 'a'), ('b', 'c'), ('c', 'a'), ('c', 'b')]\n",
      "\n",
      "[('a', 'b', 'c'), ('a', 'c', 'b'), ('b', 'a', 'c'), ('b', 'c', 'a'), ('c', 'a', 'b'), ('c', 'b', 'a')]\n",
      "\n"
     ]
    }
   ],
   "source": [
    "# permutations(iter, group_size)\n",
    "# prints all possible permutation of all elements\n",
    "\n",
    "print (list(it.permutations('abc',1)), end='\\n\\n') \n",
    "print (list(it.permutations('abc',2)), end='\\n\\n') \n",
    "print (list(it.permutations('abc',3)), end='\\n\\n') "
   ]
  },
  {
   "cell_type": "code",
   "execution_count": 4,
   "metadata": {},
   "outputs": [
    {
     "name": "stdout",
     "output_type": "stream",
     "text": [
      "[('1', '2'), ('1', '3'), ('2', '3')]\n",
      "\n"
     ]
    }
   ],
   "source": [
    "# combinations(iterable, group_size)\n",
    "# This iterator prints all the possible combinations(without replacement) of the container passed in arguments in the specified group size in sorted order.\n",
    "\n",
    "print (list(it.combinations('123',2)), end='\\n\\n') "
   ]
  },
  {
   "cell_type": "code",
   "execution_count": 5,
   "metadata": {},
   "outputs": [
    {
     "name": "stdout",
     "output_type": "stream",
     "text": [
      "[('1', '1'), ('1', '2'), ('1', '3'), ('2', '2'), ('2', '3'), ('3', '3')]\n",
      "\n"
     ]
    }
   ],
   "source": [
    "# combinations_with_replacement(iterable, group_size) \n",
    "# to print every combination with replacement \n",
    "\n",
    "print (list(it.combinations_with_replacement('123',2)), end='\\n\\n') "
   ]
  }
 ],
 "metadata": {
  "kernelspec": {
   "display_name": "Python 3",
   "language": "python",
   "name": "python3"
  },
  "language_info": {
   "codemirror_mode": {
    "name": "ipython",
    "version": 3
   },
   "file_extension": ".py",
   "mimetype": "text/x-python",
   "name": "python",
   "nbconvert_exporter": "python",
   "pygments_lexer": "ipython3",
   "version": "3.6.5"
  }
 },
 "nbformat": 4,
 "nbformat_minor": 2
}
