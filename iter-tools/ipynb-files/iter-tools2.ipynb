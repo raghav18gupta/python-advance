{
 "cells": [
  {
   "cell_type": "code",
   "execution_count": 18,
   "metadata": {},
   "outputs": [],
   "source": [
    "import itertools as it\n",
    "# https://www.geeksforgeeks.org/iterator-functions-python-set-2islice-starmap-tee/"
   ]
  },
  {
   "cell_type": "code",
   "execution_count": 19,
   "metadata": {},
   "outputs": [],
   "source": [
    "li = [2, 4, 5, 7, 8, 10, 20] \n",
    "t_list = [ (1, 10, 5), (8, 4, 1), (5, 4, 9), (11, 10 , 1) ] \n"
   ]
  },
  {
   "cell_type": "code",
   "execution_count": 20,
   "metadata": {},
   "outputs": [
    {
     "name": "stdout",
     "output_type": "stream",
     "text": [
      "[4, 7, 10]\n"
     ]
    }
   ],
   "source": [
    "# islice(iterable, start, stop, step)\n",
    "# selectively prints the values mentioned in its iterable container\n",
    "\n",
    "print (list(it.islice(li,1, 6, 2))) "
   ]
  },
  {
   "cell_type": "code",
   "execution_count": 21,
   "metadata": {},
   "outputs": [
    {
     "name": "stdout",
     "output_type": "stream",
     "text": [
      "[10, 8, 9, 11]\n"
     ]
    }
   ],
   "source": [
    "# starmap(func., tuple list)\n",
    "# returns the value according to the function from each tuple of list.\n",
    "\n",
    "print (list(it.starmap(max,t_list)))"
   ]
  },
  {
   "cell_type": "code",
   "execution_count": 22,
   "metadata": {},
   "outputs": [
    {
     "name": "stdout",
     "output_type": "stream",
     "text": [
      "[2, 4]\n"
     ]
    }
   ],
   "source": [
    "# takewhile(func, iterable)\n",
    "# opposite of dropwhile(), it prints the values till the function returns false for 1st time.\n",
    "\n",
    "print (list(it.takewhile(lambda x : x%2==0,li ))) "
   ]
  },
  {
   "cell_type": "code",
   "execution_count": 23,
   "metadata": {},
   "outputs": [
    {
     "name": "stdout",
     "output_type": "stream",
     "text": [
      "[2, 4, 5, 7, 8, 10, 20]\n",
      "[2, 4, 5, 7, 8, 10, 20]\n",
      "[2, 4, 5, 7, 8, 10, 20]\n"
     ]
    }
   ],
   "source": [
    "# tee(iterator, count)\n",
    "# splits the container into a number of iterators mentioned in the argument.\n",
    "\n",
    "itr_li = iter(li)\n",
    "tee_li = it.tee(itr_li, 3)\t\t# Here \"li\" can also be used insted of \"itr_li\"\n",
    "\n",
    "for i in tee_li:\n",
    "\tprint (list(i))"
   ]
  },
  {
   "cell_type": "code",
   "execution_count": 24,
   "metadata": {},
   "outputs": [
    {
     "name": "stdout",
     "output_type": "stream",
     "text": [
      "[('l', 's'), ('o', 'h'), ('o', 'o'), ('n', 'r'), ('n', 't'), ('g', '-'), ('g', '-')]\n"
     ]
    }
   ],
   "source": [
    "# zip_longest( iterable1, iterable2, fillval.) \n",
    "# prints the values of iterables alternatively in sequence. If one of the iterables is printed fully, remaining values are filled by the values assigned to fillvalue.\n",
    "\n",
    "print (list(it.zip_longest('loonngg','short',fillvalue='-' ))) "
   ]
  }
 ],
 "metadata": {
  "kernelspec": {
   "display_name": "Python 3",
   "language": "python",
   "name": "python3"
  },
  "language_info": {
   "codemirror_mode": {
    "name": "ipython",
    "version": 3
   },
   "file_extension": ".py",
   "mimetype": "text/x-python",
   "name": "python",
   "nbconvert_exporter": "python",
   "pygments_lexer": "ipython3",
   "version": "3.6.5"
  }
 },
 "nbformat": 4,
 "nbformat_minor": 2
}
